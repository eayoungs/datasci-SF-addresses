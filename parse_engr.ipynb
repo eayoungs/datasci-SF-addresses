{
 "cells": [
  {
   "cell_type": "code",
   "execution_count": 1,
   "metadata": {
    "collapsed": true
   },
   "outputs": [],
   "source": [
    "import pandas as pd\n",
    "import re\n",
    "import pprint as pp"
   ]
  },
  {
   "cell_type": "code",
   "execution_count": 2,
   "metadata": {},
   "outputs": [],
   "source": [
    "dataDf = pd.DataFrame.from_csv('data/RESO_Alpha_Sequenced_8_25_17.csv')"
   ]
  },
  {
   "cell_type": "code",
   "execution_count": 3,
   "metadata": {
    "collapsed": true
   },
   "outputs": [],
   "source": [
    "#%%capture\n",
    "pd.options.display.max_colwidth = 300\n",
    "items = dataDf['DESCRIPTION'].to_string(index=False)\n",
    "item = items.replace(',', '').replace('\\n', ' ').replace('.', ' ')\n",
    "item = re.sub(r'\\s{2,}', ' ', item)\n",
    "words = item.split()"
   ]
  },
  {
   "cell_type": "code",
   "execution_count": 4,
   "metadata": {},
   "outputs": [
    {
     "name": "stdout",
     "output_type": "stream",
     "text": [
      "107165\n",
      "['4799', '3rd', 'Street', 'east', 'side', 'at', 'parking', 'meter', 'space']\n"
     ]
    }
   ],
   "source": [
    "print(len(words))\n",
    "pp.pprint(words[1:10])\n",
    "\n",
    "#with open('out.txt', 'w') as f:\n",
    "#    f.write(item)"
   ]
  }
 ],
 "metadata": {
  "kernelspec": {
   "display_name": "Python 3",
   "language": "python",
   "name": "python3"
  },
  "language_info": {
   "codemirror_mode": {
    "name": "ipython",
    "version": 3
   },
   "file_extension": ".py",
   "mimetype": "text/x-python",
   "name": "python",
   "nbconvert_exporter": "python",
   "pygments_lexer": "ipython3",
   "version": "3.6.0"
  }
 },
 "nbformat": 4,
 "nbformat_minor": 2
}
