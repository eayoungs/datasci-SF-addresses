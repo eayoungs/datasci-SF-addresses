{
 "cells": [
  {
   "cell_type": "markdown",
   "metadata": {},
   "source": [
    "https://github.com/danielfrg/word2vec  \n",
    "http://nbviewer.jupyter.org/github/danielfrg/word2vec/blob/master/examples/word2vec.ipynb"
   ]
  },
  {
   "cell_type": "code",
   "execution_count": 1,
   "metadata": {
    "collapsed": true
   },
   "outputs": [],
   "source": [
    "import pandas as pd\n",
    "import word2vec\n",
    "import re\n",
    "import pprint as pp"
   ]
  },
  {
   "cell_type": "code",
   "execution_count": 2,
   "metadata": {
    "collapsed": true
   },
   "outputs": [],
   "source": [
    "dataDf = pd.DataFrame.from_csv('data/RESO_Alpha_Sequenced_8_25_17.csv')"
   ]
  },
  {
   "cell_type": "code",
   "execution_count": 3,
   "metadata": {
    "collapsed": true
   },
   "outputs": [],
   "source": [
    "#%%capture\n",
    "pd.options.display.max_colwidth = 300\n",
    "allWordsStr = dataDf['DESCRIPTION'].to_string(index=False)\n",
    "CBOW = allWordsStr.replace(',', '').replace('\\n', ' ').replace('.', ' ')\n",
    "CBOW = re.sub(r'\\s{2,}', ' ', CBOW)"
   ]
  },
  {
   "cell_type": "code",
   "execution_count": 4,
   "metadata": {
    "collapsed": true
   },
   "outputs": [],
   "source": [
    "with open('CBOW.txt', 'w') as f:\n",
    "    f.write(CBOW)"
   ]
  },
  {
   "cell_type": "code",
   "execution_count": 5,
   "metadata": {},
   "outputs": [
    {
     "name": "stdout",
     "output_type": "stream",
     "text": [
      "b'Starting training using file CBOW.txt\\n'b'100K\\rVocab size: 1122\\n'b'Words in train file: 103968\\n'"
     ]
    }
   ],
   "source": [
    "word2vec.word2vec('CBOW.txt', 'CBOW_word2vec.bin', verbose=True)"
   ]
  },
  {
   "cell_type": "code",
   "execution_count": 6,
   "metadata": {
    "collapsed": true
   },
   "outputs": [],
   "source": [
    "model = word2vec.load('CBOW_word2vec.bin')"
   ]
  },
  {
   "cell_type": "code",
   "execution_count": 7,
   "metadata": {},
   "outputs": [
    {
     "data": {
      "text/plain": [
       "array(['</s>', 'Street', 'feet', ..., 'Street-US', 'perpendicular', 'Q'],\n",
       "      dtype='<U78')"
      ]
     },
     "execution_count": 7,
     "metadata": {},
     "output_type": "execute_result"
    }
   ],
   "source": [
    "model.vocab"
   ]
  },
  {
   "cell_type": "code",
   "execution_count": 8,
   "metadata": {},
   "outputs": [
    {
     "data": {
      "text/plain": [
       "[('Howard', 0.8576856664113301),\n",
       " ('Stevenson', 0.8457211999847907),\n",
       " ('7th', 0.8320324160485706),\n",
       " ('1st', 0.8235503226359384),\n",
       " ('2nd', 0.8149882341380286),\n",
       " ('156', 0.8033733058641201),\n",
       " ('Mission', 0.7943428128330253),\n",
       " ('Brannan', 0.7729101416489315),\n",
       " ('Folsom', 0.772734059881409),\n",
       " ('Chavez', 0.7556442787714439)]"
      ]
     },
     "execution_count": 8,
     "metadata": {},
     "output_type": "execute_result"
    }
   ],
   "source": [
    "indexes, metrics = model.cosine('Market')\n",
    "model.generate_response(indexes, metrics).tolist()"
   ]
  }
 ],
 "metadata": {
  "kernelspec": {
   "display_name": "Python 3",
   "language": "python",
   "name": "python3"
  },
  "language_info": {
   "codemirror_mode": {
    "name": "ipython",
    "version": 3
   },
   "file_extension": ".py",
   "mimetype": "text/x-python",
   "name": "python",
   "nbconvert_exporter": "python",
   "pygments_lexer": "ipython3",
   "version": "3.6.0"
  }
 },
 "nbformat": 4,
 "nbformat_minor": 2
}
